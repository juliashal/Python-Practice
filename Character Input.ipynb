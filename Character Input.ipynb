{
 "cells": [
  {
   "attachments": {},
   "cell_type": "markdown",
   "metadata": {},
   "source": [
    "#1. Character input  <br>\n",
    "Create a program that asks the user to enter their name and their age. Print out a message addressed to them that tells them the year that they will turn 100 years old"
   ]
  },
  {
   "cell_type": "code",
   "execution_count": 23,
   "metadata": {},
   "outputs": [
    {
     "name": "stdout",
     "output_type": "stream",
     "text": [
      "Your name is Mdsafjsfugnfdx and you are 32 years old\n",
      "You will be 100 years old in 2091\n"
     ]
    }
   ],
   "source": [
    "from datetime import date\n",
    "\n",
    "'''check if name contains letters and its length>0'''\n",
    "while True:\n",
    "    name = input(\"Enter your name:\")\n",
    "    if name.isalpha():\n",
    "        name = name.title()\n",
    "        break\n",
    "\n",
    "'''check if age contains only numbers'''\n",
    "while True:\n",
    "    age = input(\"Enter your age:\")\n",
    "    if age.isnumeric():\n",
    "        age = int(age)\n",
    "        break\n",
    "\n",
    "current_year = date.today().year\n",
    "year_100_age = 100-age+current_year\n",
    "\n",
    "print(\"Your name is {0} and you are {1} years old\".format(name, age))\n",
    "if age<100:\n",
    "    print(\"You will be 100 years old in {0}\".format(year_100_age))\n",
    "else:\n",
    "    print(\"You were 100 years old in {0}\".format(year_100_age))\n"
   ]
  },
  {
   "cell_type": "code",
   "execution_count": null,
   "metadata": {},
   "outputs": [],
   "source": []
  }
 ],
 "metadata": {
  "kernelspec": {
   "display_name": "Python 3",
   "language": "python",
   "name": "python3"
  },
  "language_info": {
   "codemirror_mode": {
    "name": "ipython",
    "version": 3
   },
   "file_extension": ".py",
   "mimetype": "text/x-python",
   "name": "python",
   "nbconvert_exporter": "python",
   "pygments_lexer": "ipython3",
   "version": "3.10.4"
  },
  "orig_nbformat": 4,
  "vscode": {
   "interpreter": {
    "hash": "be8b2c8818152c4a394870ba09522c4123048c0677b3ca33b8e4d469137950be"
   }
  }
 },
 "nbformat": 4,
 "nbformat_minor": 2
}
